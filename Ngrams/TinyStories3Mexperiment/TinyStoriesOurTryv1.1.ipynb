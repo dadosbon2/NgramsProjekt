{
 "cells": [
  {
   "cell_type": "code",
   "execution_count": 3,
   "id": "c08d125f-0f31-4904-9443-0bb6e709aba6",
   "metadata": {},
   "outputs": [],
   "source": [
    "from datasets import load_dataset\n",
    "\n",
    "Tinyds = load_dataset(\"roneneldan/TinyStories\")"
   ]
  },
  {
   "cell_type": "code",
   "execution_count": 4,
   "id": "e142c685-8571-4443-b096-cd8ec02a3a75",
   "metadata": {},
   "outputs": [
    {
     "name": "stdout",
     "output_type": "stream",
     "text": [
      "Train split example: {'text': 'One day, a little girl named Lily found a needle in her room. She knew it was difficult to play with it because it was sharp. Lily wanted to share the needle with her mom, so she could sew a button on her shirt.\\n\\nLily went to her mom and said, \"Mom, I found this needle. Can you share it with me and sew my shirt?\" Her mom smiled and said, \"Yes, Lily, we can share the needle and fix your shirt.\"\\n\\nTogether, they shared the needle and sewed the button on Lily\\'s shirt. It was not difficult for them because they were sharing and helping each other. After they finished, Lily thanked her mom for sharing the needle and fixing her shirt. They both felt happy because they had shared and worked together.'}\n",
      "Validation split example: {'text': 'Spot. Spot saw the shiny car and said, \"Wow, Kitty, your car is so bright and clean!\" Kitty smiled and replied, \"Thank you, Spot. I polish it every day.\"\\n\\nAfter playing with the car, Kitty and Spot felt thirsty. They found a small pond with clear water. They drank the water and felt very happy. They played together all day and became best friends.'}\n",
      "Train split length: 2119719\n",
      "Validation split length: 21990\n"
     ]
    }
   ],
   "source": [
    "# Check the structure of the train and validation splits\n",
    "print(\"Train split example:\", Tinyds['train'][0])  # Print the first example of the train split\n",
    "print(\"Validation split example:\", Tinyds['validation'][0])  # Print the first example of the validation0split\n",
    "\n",
    "# Check the length of the splits to ensure they contain data\n",
    "print(\"Train split length:\", len(Tinyds['train']))\n",
    "print(\"Validation split length:\", len(Tinyds['validation']))\n"
   ]
  },
  {
   "cell_type": "code",
   "execution_count": 9,
   "id": "80f869f6-c891-4da9-a8df-3b161397765f",
   "metadata": {},
   "outputs": [
    {
     "name": "stdout",
     "output_type": "stream",
     "text": [
      "First 3 train texts: ['One day, a little girl named Lily found a needle in her room. She knew it was difficult to play with it because it was sharp. Lily wanted to share the needle with her mom, so she could sew a button on her shirt.\\n\\nLily went to her mom and said, \"Mom, I found this needle. Can you share it with me and sew my shirt?\" Her mom smiled and said, \"Yes, Lily, we can share the needle and fix your shirt.\"\\n\\nTogether, they shared the needle and sewed the button on Lily\\'s shirt. It was not difficult for them because they were sharing and helping each other. After they finished, Lily thanked her mom for sharing the needle and fixing her shirt. They both felt happy because they had shared and worked together.', 'Once upon a time, there was a little car named Beep. Beep loved to go fast and play in the sun. Beep was a healthy car because he always had good fuel. Good fuel made Beep happy and strong.\\n\\nOne day, Beep was driving in the park when he saw a big tree. The tree had many leaves that were falling. Beep liked how the leaves fall and wanted to play with them. Beep drove under the tree and watched the leaves fall on him. He laughed and beeped his horn.\\n\\nBeep played with the falling leaves all day. When it was time to go home, Beep knew he needed more fuel. He went to the fuel place and got more healthy fuel. Now, Beep was ready to go fast and play again the next day. And Beep lived happily ever after.', 'One day, a little fish named Fin was swimming near the shore. He saw a big crab and wanted to be friends. \"Hi, I am Fin. Do you want to play?\" asked the little fish. The crab looked at Fin and said, \"No, I don\\'t want to play. I am cold and I don\\'t feel fine.\"\\n\\nFin felt sad but wanted to help the crab feel better. He swam away and thought of a plan. He remembered that the sun could make things warm. So, Fin swam to the top of the water and called to the sun, \"Please, sun, help my new friend feel fine and not freeze!\"\\n\\nThe sun heard Fin\\'s call and shone its warm light on the shore. The crab started to feel better and not so cold. He saw Fin and said, \"Thank you, little fish, for making me feel fine. I don\\'t feel like I will freeze now. Let\\'s play together!\" And so, Fin and the crab played and became good friends.']\n",
      "First 3 validation texts: ['Spot. Spot saw the shiny car and said, \"Wow, Kitty, your car is so bright and clean!\" Kitty smiled and replied, \"Thank you, Spot. I polish it every day.\"\\n\\nAfter playing with the car, Kitty and Spot felt thirsty. They found a small pond with clear water. They drank the water and felt very happy. They played together all day and became best friends.', 'Once upon a time, in a big forest, there lived a rhinoceros named Roxy. Roxy loved to climb. She climbed trees, rocks, and hills. One day, Roxy found an icy hill. She had never seen anything like it before. It was shiny and cold, and she wanted to climb it.\\n\\nRoxy tried to climb the icy hill, but it was very slippery. She tried again and again, but she kept falling down. Roxy was sad. She wanted to climb the icy hill so much. Then, she saw a little bird named Billy. Billy saw that Roxy was sad and asked, \"Why are you sad, Roxy?\"\\n\\nRoxy told Billy about the icy hill and how she couldn\\'t climb it. Billy said, \"I have an idea! Let\\'s find some big leaves to put under your feet. They will help you climb the icy hill.\" Roxy and Billy looked for big leaves and found some. Roxy put the leaves under her feet and tried to climb the icy hill again.\\n\\nThis time, Roxy didn\\'t slip. She climbed and climbed until she reached the top of the icy hill. Roxy was so happy! She and Billy played on the icy hill all day. From that day on, Roxy and Billy were the best of friends, and they climbed and played together all the time. And Roxy learned that with a little help from a friend, she could climb anything.', 'Once upon a time, in a small yard, there was a small daisy. The daisy had a name. Her name was Daisy. Daisy was very small, but she was also very happy.\\n\\nOne day, Daisy saw a dog. The dog was big and had a name too. His name was Max. Max liked to play in the yard. Daisy liked to watch Max play. Max and Daisy became friends.\\n\\nEvery day, Max would come to the yard to play. Daisy would watch and smile. They were very happy together. And even though Daisy was small, she knew that she had a big friend in Max.']\n"
     ]
    }
   ],
   "source": [
    "from datasets import load_dataset\n",
    "\n",
    "\n",
    "# Get the text from both the train and validation splits\n",
    "train_texts = Tinyds['train']['text']  # Assuming 'text' is the column name\n",
    "validation_texts = Tinyds['validation']['text']\n",
    "\n",
    "# Check the first 3 texts in the train and validation splits\n",
    "print(\"First 3 train texts:\", train_texts[:3])\n",
    "print(\"First 3 validation texts:\", validation_texts[:3])\n",
    "\n",
    "# Concatenate the texts from train and validation splits and also keep then separate in txt file\n",
    "\n",
    "all_texts = train_texts + validation_texts\n",
    "\n",
    "# Save a smaller portion to a .txt file to verify output\n",
    "with open('tinystories_trainset100.txt', 'w') as f:\n",
    "    for story in train_texts[:100]:  # Writing only the first 1ß0 stories\n",
    "        f.write(story + '\\n')  # Each story on a new line\n",
    "\n"
   ]
  },
  {
   "cell_type": "code",
   "execution_count": 1,
   "id": "c98b00a3-c955-46c0-b720-0a7f018451dc",
   "metadata": {},
   "outputs": [
    {
     "name": "stdout",
     "output_type": "stream",
     "text": [
      "2.4.1\n",
      "True\n"
     ]
    }
   ],
   "source": [
    "import torch\n",
    "print(torch.__version__)\n",
    "print(torch.cuda.is_available())  # Should return True\n"
   ]
  },
  {
   "cell_type": "raw",
   "id": "8a8abdc4-4762-4bad-9268-78848255029b",
   "metadata": {},
   "source": [
    "#Loading the model tinystories-gpt2-3M#"
   ]
  },
  {
   "cell_type": "code",
   "execution_count": 1,
   "id": "cd75c6d4-f2df-4dcc-a4c2-55ae3f991141",
   "metadata": {},
   "outputs": [
    {
     "name": "stderr",
     "output_type": "stream",
     "text": [
      "C:\\Users\\Daniel\\anaconda3\\envs\\fresh_huggingface\\lib\\site-packages\\tqdm\\auto.py:21: TqdmWarning: IProgress not found. Please update jupyter and ipywidgets. See https://ipywidgets.readthedocs.io/en/stable/user_install.html\n",
      "  from .autonotebook import tqdm as notebook_tqdm\n",
      "C:\\Users\\Daniel\\anaconda3\\envs\\fresh_huggingface\\lib\\site-packages\\huggingface_hub-0.29.1-py3.8.egg\\huggingface_hub\\file_download.py:797: FutureWarning: `resume_download` is deprecated and will be removed in version 1.0.0. Downloads always resume when possible. If you want to force a new download, use `force_download=True`.\n",
      "C:\\Users\\Daniel\\anaconda3\\envs\\fresh_huggingface\\lib\\site-packages\\transformers\\utils\\generic.py:311: FutureWarning: `torch.utils._pytree._register_pytree_node` is deprecated. Please use `torch.utils._pytree.register_pytree_node` instead.\n",
      "  torch.utils._pytree._register_pytree_node(\n",
      "C:\\Users\\Daniel\\anaconda3\\envs\\fresh_huggingface\\lib\\site-packages\\transformers\\modeling_utils.py:488: FutureWarning: You are using `torch.load` with `weights_only=False` (the current default value), which uses the default pickle module implicitly. It is possible to construct malicious pickle data which will execute arbitrary code during unpickling (See https://github.com/pytorch/pytorch/blob/main/SECURITY.md#untrusted-models for more details). In a future release, the default value for `weights_only` will be flipped to `True`. This limits the functions that could be executed during unpickling. Arbitrary objects will no longer be allowed to be loaded via this mode unless they are explicitly allowlisted by the user via `torch.serialization.add_safe_globals`. We recommend you start setting `weights_only=True` for any use case where you don't have full control of the loaded file. Please open an issue on GitHub for any issues related to this experimental feature.\n",
      "  return torch.load(checkpoint_file, map_location=map_location)\n",
      "C:\\Users\\Daniel\\anaconda3\\envs\\fresh_huggingface\\lib\\site-packages\\huggingface_hub-0.29.1-py3.8.egg\\huggingface_hub\\file_download.py:797: FutureWarning: `resume_download` is deprecated and will be removed in version 1.0.0. Downloads always resume when possible. If you want to force a new download, use `force_download=True`.\n"
     ]
    }
   ],
   "source": [
    "\n",
    "from transformers import AutoTokenizer, AutoModelForCausalLM\n",
    "\n",
    "tokenizer = AutoTokenizer.from_pretrained(\"calum/tinystories-gpt2-3M\")\n",
    "model = AutoModelForCausalLM.from_pretrained(\"calum/tinystories-gpt2-3M\")\n",
    "\n",
    "\n",
    "\n",
    "\n",
    "\n",
    "\n",
    "\n",
    "\n",
    "\n",
    "#This isnt necesssary as we can just load the tokenizer through the pipeline, the   plan before was to create our own tokenizer\n",
    "#import sentencepiece as spm\n",
    "\n",
    "# Define paths and parameters\n",
    "#input_text = r\"C:\\Users\\Daniel\\Documents\\Daniel_things\\Universität_Halle\\Data_Mining_und_maschinelle_Lernen\\FinalProect\\CHASESQLTtry2\\Ngrams\\tinystories_trainset100.txt\"  # Path to the prepared text file\n",
    "#model_prefix = 'tinystories_tokenizer'  # Prefix for model files\n",
    "#vocab_size = 32768  # Vocabulary size (same as in Nguyen's model)\n",
    "\n",
    "# Train SentencePiece tokenizer\n",
    "#spm.SentencePieceTrainer.Train(\n",
    "   #input=input_text,\n",
    "   #model_prefix=model_prefix,\n",
    "   # vocab_size=vocab_size,\n",
    "   #character_coverage=0.9995,  # Covers almost all characters\n",
    "   #model_type=\"unigram\",  # Use \"unigram\" model type, or try \"bpe\" or \"word\" if needed\n",
    "   # user_defined_symbols=[\"<|endoftext|>\"]  # Add special tokens if needed\n",
    "#)\n",
    "\n",
    "#print(\"Tokenizer training complete!\")\n"
   ]
  },
  {
   "cell_type": "code",
   "execution_count": 7,
   "id": "d5a7ce0b-eaae-443a-addb-361fcde16214",
   "metadata": {},
   "outputs": [
    {
     "name": "stderr",
     "output_type": "stream",
     "text": [
      "Using pad_token, but it is not set yet.\n",
      "You are resizing the embedding layer without providing a `pad_to_multiple_of` parameter. This means that the new embedding dimension will be 50257. This might induce some performance reduction as *Tensor Cores* will not be available. For more details about this, or help on choosing the correct value for resizing, refer to this guide: https://docs.nvidia.com/deeplearning/performance/dl-performance-matrix-multiplication/index.html#requirements-tc\n",
      "Map: 100%|██████████████████████████████████████████████████████████| 2119719/2119719 [14:39<00:00, 2408.99 examples/s]\n",
      "Map: 100%|██████████████████████████████████████████████████████████████| 21990/21990 [00:08<00:00, 2577.62 examples/s]\n"
     ]
    },
    {
     "ename": "AttributeError",
     "evalue": "'list' object has no attribute 'to'",
     "output_type": "error",
     "traceback": [
      "\u001b[1;31m---------------------------------------------------------------------------\u001b[0m",
      "\u001b[1;31mAttributeError\u001b[0m                            Traceback (most recent call last)",
      "Cell \u001b[1;32mIn[7], line 46\u001b[0m\n\u001b[0;32m     44\u001b[0m model\u001b[38;5;241m.\u001b[39mtrain()\n\u001b[0;32m     45\u001b[0m \u001b[38;5;28;01mfor\u001b[39;00m batch \u001b[38;5;129;01min\u001b[39;00m train_dataloader:\n\u001b[1;32m---> 46\u001b[0m     inputs \u001b[38;5;241m=\u001b[39m \u001b[43mbatch\u001b[49m\u001b[43m[\u001b[49m\u001b[38;5;124;43m\"\u001b[39;49m\u001b[38;5;124;43minput_ids\u001b[39;49m\u001b[38;5;124;43m\"\u001b[39;49m\u001b[43m]\u001b[49m\u001b[38;5;241;43m.\u001b[39;49m\u001b[43mto\u001b[49m(\u001b[38;5;124m\"\u001b[39m\u001b[38;5;124mcuda\u001b[39m\u001b[38;5;124m\"\u001b[39m)\n\u001b[0;32m     47\u001b[0m     labels \u001b[38;5;241m=\u001b[39m batch[\u001b[38;5;124m\"\u001b[39m\u001b[38;5;124mlabels\u001b[39m\u001b[38;5;124m\"\u001b[39m]\u001b[38;5;241m.\u001b[39mto(\u001b[38;5;124m\"\u001b[39m\u001b[38;5;124mcuda\u001b[39m\u001b[38;5;124m\"\u001b[39m)\n\u001b[0;32m     48\u001b[0m     optimizer\u001b[38;5;241m.\u001b[39mzero_grad()\n",
      "\u001b[1;31mAttributeError\u001b[0m: 'list' object has no attribute 'to'"
     ]
    }
   ],
   "source": [
    "from datasets import load_dataset\n",
    "import torch\n",
    "\n",
    "# Load dataset\n",
    "Tinyds = load_dataset(\"roneneldan/TinyStories\")  # Ensure dataset is loaded\n",
    "train_texts = Tinyds[\"train\"][\"text\"]\n",
    "val_texts = Tinyds[\"validation\"][\"text\"]\n",
    "\n",
    "# Define a padding token if missing\n",
    "if tokenizer.pad_token is None:\n",
    "    tokenizer.pad_token = tokenizer.eos_token  # Use EOS as PAD\n",
    "    if tokenizer.pad_token is None:\n",
    "        tokenizer.add_special_tokens({'pad_token': '[PAD]'})\n",
    "\n",
    "# Resize model embedding to accommodate new token if added\n",
    "model.resize_token_embeddings(len(tokenizer))\n",
    "\n",
    "# Tokenize the dataset\n",
    "def tokenize_function(examples):\n",
    "    return tokenizer(examples[\"text\"], padding=\"max_length\", truncation=True)\n",
    "\n",
    "train_dataset = Tinyds[\"train\"].map(tokenize_function, batched=True)\n",
    "val_dataset = Tinyds[\"validation\"].map(tokenize_function, batched=True)\n",
    "\n",
    "# Prepare for training (subset to speed up)\n",
    "train_dataset = train_dataset.shuffle().select(range(10000))\n",
    "val_dataset = val_dataset.shuffle().select(range(1000))\n",
    "\n",
    "# Define DataLoader for batching\n",
    "from torch.utils.data import DataLoader\n",
    "\n",
    "train_dataloader = DataLoader(train_dataset, batch_size=4, shuffle=True)\n",
    "val_dataloader = DataLoader(val_dataset, batch_size=4)\n",
    "\n",
    "# Move model to GPU\n",
    "model.to(\"cuda\")\n",
    "\n",
    "# Define optimizer\n",
    "optimizer = torch.optim.Adam(model.parameters(), lr=5e-5)\n",
    "\n",
    "# Training loop\n",
    "epochs = 3\n",
    "for epoch in range(epochs):\n",
    "    model.train()\n",
    "    for batch in train_dataloader:\n",
    "        inputs = batch[\"input_ids\"].to(\"cuda\")\n",
    "        labels = batch[\"labels\"].to(\"cuda\")\n",
    "        optimizer.zero_grad()\n",
    "\n",
    "        outputs = model(inputs, labels=labels)\n",
    "        loss = outputs.loss\n",
    "        loss.backward()\n",
    "        optimizer.step()\n",
    "\n",
    "    print(f\"Epoch {epoch} completed with loss: {loss.item()}\")\n"
   ]
  },
  {
   "cell_type": "code",
   "execution_count": 9,
   "id": "2645e1a5-5127-47f1-a58e-650ac3579aa4",
   "metadata": {},
   "outputs": [
    {
     "name": "stderr",
     "output_type": "stream",
     "text": [
      "You are resizing the embedding layer without providing a `pad_to_multiple_of` parameter. This means that the new embedding dimension will be 50257. This might induce some performance reduction as *Tensor Cores* will not be available. For more details about this, or help on choosing the correct value for resizing, refer to this guide: https://docs.nvidia.com/deeplearning/performance/dl-performance-matrix-multiplication/index.html#requirements-tc\n",
      "Map: 100%|██████████████████████████████████████████████████████████| 2119719/2119719 [09:47<00:00, 3607.68 examples/s]\n",
      "Map: 100%|██████████████████████████████████████████████████████████████| 21990/21990 [00:06<00:00, 3630.51 examples/s]\n"
     ]
    },
    {
     "name": "stdout",
     "output_type": "stream",
     "text": [
      "Epoch 1, Batch 100, Loss: 1.3375\n",
      "Epoch 1, Batch 200, Loss: 0.8734\n",
      "Epoch 1, Batch 300, Loss: 1.1576\n",
      "Epoch 1, Batch 400, Loss: 1.1316\n",
      "Epoch 1, Batch 500, Loss: 1.1082\n",
      "Epoch 1, Batch 600, Loss: 1.2431\n",
      "Epoch 1, Batch 700, Loss: 1.1271\n",
      "Epoch 1, Batch 800, Loss: 1.5148\n",
      "Epoch 1, Batch 900, Loss: 1.2944\n",
      "Epoch 1, Batch 1000, Loss: 1.6702\n",
      "Epoch 1, Batch 1100, Loss: 1.0314\n",
      "Epoch 1, Batch 1200, Loss: 1.3085\n",
      "Epoch 1, Batch 1300, Loss: 1.1116\n",
      "Epoch 1, Batch 1400, Loss: 0.9005\n",
      "Epoch 1, Batch 1500, Loss: 1.0981\n",
      "Epoch 1, Batch 1600, Loss: 1.2579\n",
      "Epoch 1, Batch 1700, Loss: 0.9629\n",
      "Epoch 1, Batch 1800, Loss: 0.9809\n",
      "Epoch 1, Batch 1900, Loss: 1.3713\n",
      "Epoch 1, Batch 2000, Loss: 1.0438\n",
      "Epoch 1, Batch 2100, Loss: 1.4486\n",
      "Epoch 1, Batch 2200, Loss: 1.0999\n",
      "Epoch 1, Batch 2300, Loss: 1.0341\n",
      "Epoch 1, Batch 2400, Loss: 0.9450\n",
      "Epoch 1, Batch 2500, Loss: 0.8611\n",
      "Epoch 1 completed with average loss: 1.1145\n",
      "Epoch 2, Batch 100, Loss: 1.2544\n",
      "Epoch 2, Batch 200, Loss: 0.9298\n",
      "Epoch 2, Batch 300, Loss: 0.8169\n",
      "Epoch 2, Batch 400, Loss: 1.1377\n",
      "Epoch 2, Batch 500, Loss: 0.7971\n",
      "Epoch 2, Batch 600, Loss: 1.4135\n",
      "Epoch 2, Batch 700, Loss: 0.9121\n",
      "Epoch 2, Batch 800, Loss: 1.2863\n",
      "Epoch 2, Batch 900, Loss: 0.9634\n",
      "Epoch 2, Batch 1000, Loss: 1.3033\n",
      "Epoch 2, Batch 1100, Loss: 1.1486\n",
      "Epoch 2, Batch 1200, Loss: 1.4015\n",
      "Epoch 2, Batch 1300, Loss: 1.6143\n",
      "Epoch 2, Batch 1400, Loss: 0.8116\n",
      "Epoch 2, Batch 1500, Loss: 0.9422\n",
      "Epoch 2, Batch 1600, Loss: 0.8899\n",
      "Epoch 2, Batch 1700, Loss: 0.9467\n",
      "Epoch 2, Batch 1800, Loss: 1.3510\n",
      "Epoch 2, Batch 1900, Loss: 0.9811\n",
      "Epoch 2, Batch 2000, Loss: 0.8181\n",
      "Epoch 2, Batch 2100, Loss: 1.1924\n",
      "Epoch 2, Batch 2200, Loss: 0.6765\n",
      "Epoch 2, Batch 2300, Loss: 1.2105\n",
      "Epoch 2, Batch 2400, Loss: 1.2680\n",
      "Epoch 2, Batch 2500, Loss: 0.8145\n",
      "Epoch 2 completed with average loss: 1.0818\n",
      "Epoch 3, Batch 100, Loss: 0.8092\n",
      "Epoch 3, Batch 200, Loss: 1.2181\n",
      "Epoch 3, Batch 300, Loss: 1.2960\n",
      "Epoch 3, Batch 400, Loss: 1.4250\n",
      "Epoch 3, Batch 500, Loss: 0.9595\n",
      "Epoch 3, Batch 600, Loss: 1.5434\n",
      "Epoch 3, Batch 700, Loss: 1.1704\n",
      "Epoch 3, Batch 800, Loss: 1.4493\n",
      "Epoch 3, Batch 900, Loss: 0.9918\n",
      "Epoch 3, Batch 1000, Loss: 0.8641\n",
      "Epoch 3, Batch 1100, Loss: 1.0270\n",
      "Epoch 3, Batch 1200, Loss: 0.9704\n",
      "Epoch 3, Batch 1300, Loss: 1.0636\n",
      "Epoch 3, Batch 1400, Loss: 0.9324\n",
      "Epoch 3, Batch 1500, Loss: 1.0880\n",
      "Epoch 3, Batch 1600, Loss: 1.1203\n",
      "Epoch 3, Batch 1700, Loss: 0.9460\n",
      "Epoch 3, Batch 1800, Loss: 1.2851\n",
      "Epoch 3, Batch 1900, Loss: 1.2937\n",
      "Epoch 3, Batch 2000, Loss: 1.1117\n",
      "Epoch 3, Batch 2100, Loss: 0.8706\n",
      "Epoch 3, Batch 2200, Loss: 0.7914\n",
      "Epoch 3, Batch 2300, Loss: 1.0340\n",
      "Epoch 3, Batch 2400, Loss: 1.1262\n",
      "Epoch 3, Batch 2500, Loss: 1.0531\n",
      "Epoch 3 completed with average loss: 1.0703\n"
     ]
    },
    {
     "data": {
      "text/plain": [
       "('tinystories_finetuned3epochs\\\\tokenizer_config.json',\n",
       " 'tinystories_finetuned3epochs\\\\special_tokens_map.json',\n",
       " 'tinystories_finetuned3epochs\\\\vocab.json',\n",
       " 'tinystories_finetuned3epochs\\\\merges.txt',\n",
       " 'tinystories_finetuned3epochs\\\\added_tokens.json',\n",
       " 'tinystories_finetuned3epochs\\\\tokenizer.json')"
      ]
     },
     "execution_count": 9,
     "metadata": {},
     "output_type": "execute_result"
    }
   ],
   "source": [
    "from datasets import load_dataset\n",
    "import torch\n",
    "\n",
    "# Load model and tokenizer (missing in your original code)\n",
    "model_name = \"gpt2-3M\"  # or whatever model you're using\n",
    "\n",
    "# Load dataset\n",
    "train_texts = Tinyds[\"train\"][\"text\"]\n",
    "val_texts = Tinyds[\"validation\"][\"text\"]\n",
    "\n",
    "# Define a padding token if missing\n",
    "if tokenizer.pad_token is None:\n",
    "    tokenizer.pad_token = tokenizer.eos_token\n",
    "    if tokenizer.pad_token is None:\n",
    "        tokenizer.add_special_tokens({'pad_token': '[PAD]'})\n",
    "\n",
    "# Resize model embedding to accommodate new token if added\n",
    "model.resize_token_embeddings(len(tokenizer))\n",
    "\n",
    "# Tokenize the dataset and prepare labels for causal language modeling\n",
    "def tokenize_function(examples):\n",
    "    # Tokenize the texts\n",
    "    tokenized = tokenizer(examples[\"text\"], padding=\"max_length\", truncation=True, max_length=512, return_tensors=\"pt\")\n",
    "    \n",
    "    # For causal language modeling, labels are the same as input_ids\n",
    "    tokenized[\"labels\"] = tokenized[\"input_ids\"].clone()\n",
    "    \n",
    "    return tokenized\n",
    "\n",
    "# Apply tokenization with proper PyTorch tensors\n",
    "train_dataset = Tinyds[\"train\"].map(\n",
    "    tokenize_function, \n",
    "    batched=True, \n",
    "    remove_columns=[\"text\"]  # Remove original text column\n",
    ")\n",
    "val_dataset = Tinyds[\"validation\"].map(\n",
    "    tokenize_function, \n",
    "    batched=True, \n",
    "    remove_columns=[\"text\"]\n",
    ")\n",
    "\n",
    "# Convert to PyTorch dataset format\n",
    "train_dataset.set_format(type=\"torch\", columns=[\"input_ids\", \"attention_mask\", \"labels\"])\n",
    "val_dataset.set_format(type=\"torch\", columns=[\"input_ids\", \"attention_mask\", \"labels\"])\n",
    "\n",
    "# Prepare for training (subset to speed up)\n",
    "train_dataset = train_dataset.shuffle(seed=42).select(range(10000))\n",
    "val_dataset = val_dataset.shuffle(seed=42).select(range(1000))\n",
    "\n",
    "# Define DataLoader for batching\n",
    "from torch.utils.data import DataLoader\n",
    "train_dataloader = DataLoader(train_dataset, batch_size=4, shuffle=True)\n",
    "val_dataloader = DataLoader(val_dataset, batch_size=4)\n",
    "\n",
    "# Move model to GPU\n",
    "device = torch.device(\"cuda\" if torch.cuda.is_available() else \"cpu\")\n",
    "model.to(device)\n",
    "\n",
    "# Define optimizer\n",
    "optimizer = torch.optim.Adam(model.parameters(), lr=5e-5)\n",
    "\n",
    "# Training loop\n",
    "epochs = 3\n",
    "for epoch in range(epochs):\n",
    "    model.train()\n",
    "    total_loss = 0\n",
    "    for batch_idx, batch in enumerate(train_dataloader):\n",
    "        # Move batch to device\n",
    "        inputs = {k: v.to(device) for k, v in batch.items()}\n",
    "        \n",
    "        # Clear gradients\n",
    "        optimizer.zero_grad()\n",
    "        \n",
    "        # Forward pass\n",
    "        outputs = model(**inputs)\n",
    "        loss = outputs.loss\n",
    "        \n",
    "        # Backward pass\n",
    "        loss.backward()\n",
    "        optimizer.step()\n",
    "        \n",
    "        total_loss += loss.item()\n",
    "        \n",
    "        # Print progress\n",
    "        if (batch_idx + 1) % 100 == 0:\n",
    "            print(f\"Epoch {epoch+1}, Batch {batch_idx+1}, Loss: {loss.item():.4f}\")\n",
    "    \n",
    "    # Print epoch summary\n",
    "    avg_loss = total_loss / len(train_dataloader)\n",
    "    print(f\"Epoch {epoch+1} completed with average loss: {avg_loss:.4f}\")\n",
    "\n",
    "# Save the fine-tuned model\n",
    "model.save_pretrained(\"tinystories_finetuned3pochs\")\n",
    "tokenizer.save_pretrained(\"tinystories_finetuned3epochs\")"
   ]
  },
  {
   "cell_type": "raw",
   "id": "09bb8cda-0e4d-4d42-af6b-3d8989081bd1",
   "metadata": {},
   "source": [
    "Here we do the tokenizer with our gpt2-3M model"
   ]
  },
  {
   "cell_type": "code",
   "execution_count": 2,
   "id": "ccf31122-5b0f-4769-875c-f43d4a7d31b4",
   "metadata": {},
   "outputs": [
    {
     "name": "stdout",
     "output_type": "stream",
     "text": [
      "Token Pieces: ['This', 'Ġis', 'Ġa', 'Ġtest']\n",
      "Token IDs: [1212, 318, 257, 1332]\n",
      "Decoded Text: This is a test\n"
     ]
    }
   ],
   "source": [
    "#from transformers import AutoTokenizer\n",
    "\n",
    "# Load the GPT-2 (3M) tokenizer\n",
    "#tokenizer = AutoTokenizer.from_pretrained(\"calum/tinystories-gpt2-3M\")\n",
    "\n",
    "# Test text\n",
    "text = \"This is a test\"\n",
    "\n",
    "# Encode: text -> token pieces & IDs\n",
    "token_pieces = tokenizer.tokenize(text)  # Subword tokens\n",
    "token_ids = tokenizer.encode(text)  # Token IDs\n",
    "\n",
    "print(\"Token Pieces:\", token_pieces)\n",
    "print(\"Token IDs:\", token_ids)\n",
    "\n",
    "# Decode: tokens -> text\n",
    "decoded_text = tokenizer.decode(token_ids)\n",
    "print(\"Decoded Text:\", decoded_text)"
   ]
  },
  {
   "cell_type": "code",
   "execution_count": null,
   "id": "b1fcf554-cfcd-41d7-952b-71cbec6c2125",
   "metadata": {},
   "outputs": [],
   "source": []
  }
 ],
 "metadata": {
  "kernelspec": {
   "display_name": "Python (fresh_huggingface)",
   "language": "python",
   "name": "fresh_huggingface"
  },
  "language_info": {
   "codemirror_mode": {
    "name": "ipython",
    "version": 3
   },
   "file_extension": ".py",
   "mimetype": "text/x-python",
   "name": "python",
   "nbconvert_exporter": "python",
   "pygments_lexer": "ipython3",
   "version": "3.8.20"
  }
 },
 "nbformat": 4,
 "nbformat_minor": 5
}
