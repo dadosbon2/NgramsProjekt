{
 "cells": [
  {
   "cell_type": "code",
   "execution_count": 1,
   "id": "e14ce148-084d-45b3-845f-972c68c7679a",
   "metadata": {},
   "outputs": [
    {
     "name": "stdout",
     "output_type": "stream",
     "text": [
      "Vocabulary size: 32768\n",
      "\n",
      "Sample Vocabulary (first 10 tokens):\n",
      "0: <pad>\n",
      "1: <s>\n",
      "2: </s>\n",
      "3: <unk>\n",
      "4: \n",
      "\n",
      "5: [@~MASK~@]\n",
      "6: [@~CLS~@]\n",
      "7: [@~SEP~@]\n",
      "8: 0\n",
      "9: 1\n",
      "\n",
      "Tokens: ['This', '▁is', '▁a', '▁sample', '▁sentence', '.']\n",
      "\n",
      "Decoded text: This is a sample sentence.\n",
      "\n",
      "Subword units for 'unhappiness': [431, 32587, 1568, 946]\n"
     ]
    }
   ],
   "source": [
    "#We will take a look into the library\n",
    "# Importing necessary library\n",
    "import sentencepiece as spm\n",
    "\n",
    "# Load the SentencePiece model\n",
    "model_path = '32768.model'  # Adjust the path if necessary\n",
    "sp = spm.SentencePieceProcessor(model_file=model_path)\n",
    "\n",
    "# Get the vocabulary size\n",
    "vocab_size = sp.get_piece_size()\n",
    "print(f\"Vocabulary size: {vocab_size}\")\n",
    "\n",
    "# Print a sample of the first 10 tokens in the vocabulary\n",
    "print(\"\\nSample Vocabulary (first 10 tokens):\")\n",
    "for i in range(10):\n",
    "    print(f\"{i}: {sp.id_to_piece(i)}\")\n",
    "\n",
    "# Tokenize a sample sentence\n",
    "text = \"This is a sample sentence.\"\n",
    "tokens = sp.encode(text, out_type=str)\n",
    "print(\"\\nTokens:\", tokens)\n",
    "\n",
    "# Decode the tokens back to text\n",
    "decoded_text = sp.decode(tokens)\n",
    "print(\"\\nDecoded text:\", decoded_text)\n",
    "\n",
    "# Explore subword segmentation of a word\n",
    "word = 'unhappiness'\n",
    "subwords = sp.encode(word, out_type=int)\n",
    "print(f\"\\nSubword units for '{word}':\", subwords)"
   ]
  },
  {
   "cell_type": "code",
   "execution_count": null,
   "id": "322c9769-b861-49f1-ac52-1b26ce69ea38",
   "metadata": {},
   "outputs": [],
   "source": []
  }
 ],
 "metadata": {
  "kernelspec": {
   "display_name": "Python (huggingface_env)",
   "language": "python",
   "name": "huggingface_env"
  },
  "language_info": {
   "codemirror_mode": {
    "name": "ipython",
    "version": 3
   },
   "file_extension": ".py",
   "mimetype": "text/x-python",
   "name": "python",
   "nbconvert_exporter": "python",
   "pygments_lexer": "ipython3",
   "version": "3.10.16"
  }
 },
 "nbformat": 4,
 "nbformat_minor": 5
}
