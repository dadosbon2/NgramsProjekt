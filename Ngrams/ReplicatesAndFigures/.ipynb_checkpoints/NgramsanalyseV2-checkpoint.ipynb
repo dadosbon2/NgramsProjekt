{
 "cells": [
  {
   "cell_type": "code",
   "execution_count": null,
   "id": "42ec4c4c-52b8-4fdf-8d09-2518762875b5",
   "metadata": {},
   "outputs": [],
   "source": []
  },
  {
   "cell_type": "raw",
   "id": "e9a5252a-da22-4af5-9b99-9ed803b4e4d0",
   "metadata": {},
   "source": [
    "*Loading our own trained model from huggingface"
   ]
  },
  {
   "cell_type": "code",
   "execution_count": 6,
   "id": "253addc6-e421-4160-a73a-966316ad91fc",
   "metadata": {},
   "outputs": [
    {
     "name": "stdout",
     "output_type": "stream",
     "text": [
      "True\n"
     ]
    }
   ],
   "source": [
    "import os\n",
    "print(os.path.exists(r\"C:/Users/Daniel/Documents/Daniel_things/Universität_Halle/Data_Mining_und_maschinelle_Lernen/FinalProect/CHASESQLTtry2/Ngrams/32768.model\"))"
   ]
  },
  {
   "cell_type": "code",
   "execution_count": 7,
   "id": "120a28ae-b5b7-4253-beed-8d0206ab3112",
   "metadata": {},
   "outputs": [
    {
     "name": "stdout",
     "output_type": "stream",
     "text": [
      "Tokenizer loaded successfully!\n",
      "Test Tokenization: [4146, 1726, 275, 616]\n"
     ]
    }
   ],
   "source": [
    "import sentencepiece as spm\n",
    "\n",
    "# Define the local tokenizer path\n",
    "tokenizer_path = r\"C:\\Users\\Daniel\\Documents\\Daniel_things\\Universität_Halle\\Data_Mining_und_maschinelle_Lernen\\FinalProect\\CHASESQLTtry2\\Ngrams\\32768.model\"\n",
    "\n",
    "# Load the tokenizer model directly from the file as bytes\n",
    "with open(tokenizer_path, \"rb\") as f:\n",
    "    tokenizer = spm.SentencePieceProcessor(model_proto=f.read())\n",
    "\n",
    "# Test the tokenizer\n",
    "print(\"Tokenizer loaded successfully!\")\n",
    "print(\"Test Tokenization:\", tokenizer.encode(\"Once upon a time\"))\n"
   ]
  },
  {
   "cell_type": "raw",
   "id": "09af70b9-fdbe-4b65-a94e-0ead5cbd1cd5",
   "metadata": {},
   "source": [
    "This an example  of failured. it might be cause of beamers=5 method instead of topp"
   ]
  },
  {
   "cell_type": "code",
   "execution_count": 18,
   "id": "04902e92-30e6-4f32-9db7-f77b29cc0147",
   "metadata": {},
   "outputs": [
    {
     "name": "stdout",
     "output_type": "stream",
     "text": [
      "Tokenizer loaded successfully!\n",
      "Encoded input: [277, 275, 9090, 1602, 1602, 1590, 32600, 32578]\n",
      "Model loaded successfully!\n",
      "Generated text: in a kingdom far far away, \n",
      "One, little named was through forest she a. was and, she to the of forest Sud, heard voice her.\n",
      "\" there little,\" the said\n",
      " little. looked and a voice,Im\n"
     ]
    }
   ],
   "source": [
    "import torch\n",
    "import sentencepiece as spm\n",
    "from transformers import GPT2Config, GPT2LMHeadModel\n",
    "from safetensors import safe_open\n",
    "import os\n",
    "\n",
    "# Defining the paths to the model and tokenizer. The model can manually be downloaded from the repository in Hugging Face, \n",
    "# and the tokenizer is the same one provided by the author.\n",
    "model_path = r\"C:/Users/Daniel/Documents/Daniel_things/Universität_Halle/Data_Mining_und_maschinelle_Lernen/FinalProect/tensormodel2TinyAlone/tinystories_160M_model/tinymodel.safetensors\"\n",
    "tokenizer_path = r\"C:/Users/Daniel/Documents/Daniel_things/Universität_Halle/Data_Mining_und_maschinelle_Lernen/FinalProect/CHASESQLTtry2/Ngrams/32768.model\"\n",
    "\n",
    "# Step 1: Load the tokenizer (a SentencePiece tokenizer)\n",
    "with open(tokenizer_path, \"rb\") as f:\n",
    "    tokenizer = spm.SentencePieceProcessor(model_proto=f.read())\n",
    "\n",
    "print(\"Tokenizer loaded successfully!\")\n",
    "\n",
    "# Test the tokenizer with an example\n",
    "input_text = \"in a kingdom far far away, \"\n",
    "input_ids = tokenizer.encode(input_text)\n",
    "print(f\"Encoded input: {input_ids}\")\n",
    "\n",
    "# Step 2: Defining the model architecture (based on our training script)\n",
    "config = GPT2Config(\n",
    "    vocab_size=32768,  # Same vocabulary size as in training\n",
    "    n_positions=2048,  # Same context size (positions)\n",
    "    n_embd=896,  # Same embedding size\n",
    "    n_layer=12,  # Same number of layers\n",
    "    n_head=16,  # Same number of attention heads\n",
    "    pad_token_id=50256,  # Adding pad_token_id (we use eos_token_id as pad)\n",
    ")\n",
    "\n",
    "# Initialize the model\n",
    "model = GPT2LMHeadModel(config)\n",
    "\n",
    "# Step 3: Load the model weights from the safetensors file using get_tensor\n",
    "with safe_open(model_path, framework=\"pt\") as f:\n",
    "    model_state_dict = {key: f.get_tensor(key) for key in f.keys()}\n",
    "\n",
    "# Load the model state dictionary\n",
    "model.load_state_dict(model_state_dict, strict=False)\n",
    "model.eval()\n",
    "print(\"Model loaded successfully!\")\n",
    "\n",
    "# Step 4: Testing the model (Generate text from input)\n",
    "# Convert input to tensor\n",
    "input_tensor = torch.tensor(input_ids).unsqueeze(0)  # Add batch dimension\n",
    "\n",
    "# **Attention Mask Creation**\n",
    "# Creating an attention mask: all tokens are visible for the model except the padding tokens\n",
    "attention_mask = torch.ones(input_tensor.shape, dtype=torch.long)  # Start with all tokens as visible\n",
    "\n",
    "# If any padding token is present, mask those positions as 0\n",
    "# Since we're using pad_token_id=50256, this will handle padding correctly\n",
    "attention_mask[input_tensor == 50256] = 0\n",
    "\n",
    "# Generate text from the model with the attention mask\n",
    "output = model.generate(input_tensor, max_length=50, num_beams=5, no_repeat_ngram_size=2, attention_mask=attention_mask)\n",
    "\n",
    "# Decode the generated tokens to text\n",
    "generated_text = tokenizer.decode(output[0].tolist())\n",
    "print(f\"Generated text: {generated_text}\")\n"
   ]
  },
  {
   "cell_type": "raw",
   "id": "f78b4d4f-97e3-4878-853e-657f7403b4d0",
   "metadata": {},
   "source": [
    "After trying to run with a different selection of the best token(top_p0.9) We find out that the model cant make predictions, or perphaps in can only do prediction with the source code"
   ]
  },
  {
   "cell_type": "code",
   "execution_count": 20,
   "id": "22813051-2626-44e6-bbdb-2078e072596c",
   "metadata": {},
   "outputs": [
    {
     "name": "stdout",
     "output_type": "stream",
     "text": [
      "Tokenizer loaded successfully!\n",
      "Encoded input: [579, 9090, 1602, 1602, 1590]\n",
      "Model loaded successfully!\n",
      "Generated text: In kingdom far far away the.\n",
      "One, little named was in forest He a forest In forest he a girl Lily She a named. was very. liked play her and her. day she a came the with mom dad\n",
      "\",!\" said.Do want play game\n",
      "L said \"!\"\n",
      "Her saidYes and started play Lily They around forest Lilys. ran and and. had much. then Lily a and mom to home\n",
      "When got,' mom her was happy see. said\n"
     ]
    }
   ],
   "source": [
    "import torch\n",
    "import sentencepiece as spm\n",
    "from transformers import GPT2Config, GPT2LMHeadModel\n",
    "from safetensors import safe_open\n",
    "import os\n",
    "\n",
    "# Defining the paths to the model and tokenizer. \n",
    "model_path = r\"C:/Users/Daniel/Documents/Daniel_things/Universität_Halle/Data_Mining_und_maschinelle_Lernen/FinalProect/tensormodel2TinyAlone/tinystories_160M_model/tinymodel.safetensors\"\n",
    "tokenizer_path = r\"C:/Users/Daniel/Documents/Daniel_things/Universität_Halle/Data_Mining_und_maschinelle_Lernen/FinalProect/CHASESQLTtry2/Ngrams/32768.model\"\n",
    "\n",
    "# Step 1: Load the tokenizer (a SentencePiece tokenizer)\n",
    "with open(tokenizer_path, \"rb\") as f:\n",
    "    tokenizer = spm.SentencePieceProcessor(model_proto=f.read())\n",
    "\n",
    "print(\"Tokenizer loaded successfully!\")\n",
    "\n",
    "# Test the tokenizer with an example\n",
    "input_text = \"In kingdom far far away\"\n",
    "input_ids = tokenizer.encode(input_text)\n",
    "print(f\"Encoded input: {input_ids}\")\n",
    "\n",
    "# Step 2: Defining the model architecture (based on our training script)\n",
    "config = GPT2Config(\n",
    "    vocab_size=32768,  # Same vocabulary size as in training\n",
    "    n_positions=2048,  # Same context size (positions)\n",
    "    n_embd=896,  # Same embedding size\n",
    "    n_layer=12,  # Same number of layers\n",
    "    n_head=16,  # Same number of attention heads\n",
    "    pad_token_id=50256,  # Adding pad_token_id (we use eos_token_id as pad)\n",
    ")\n",
    "\n",
    "# Initialize the model\n",
    "model = GPT2LMHeadModel(config)\n",
    "\n",
    "# Step 3: Load the model weights from the safetensors file using get_tensor\n",
    "with safe_open(model_path, framework=\"pt\") as f:\n",
    "    model_state_dict = {key: f.get_tensor(key) for key in f.keys()}\n",
    "\n",
    "# Load the model state dictionary\n",
    "model.load_state_dict(model_state_dict, strict=False)\n",
    "model.eval()\n",
    "print(\"Model loaded successfully!\")\n",
    "\n",
    "# Step 4: Testing the model (Generate text from input)\n",
    "# Convert input to tensor\n",
    "input_tensor = torch.tensor(input_ids).unsqueeze(0)  # Add batch dimension\n",
    "\n",
    "# **Attention Mask Creation**\n",
    "# Creating an attention mask: all tokens are visible for the model except the padding tokens\n",
    "attention_mask = torch.ones(input_tensor.shape, dtype=torch.long)  # Start with all tokens as visible\n",
    "\n",
    "# If any padding token is present, mask those positions as 0\n",
    "# Since we're using pad_token_id=50256, this will handle padding correctly\n",
    "attention_mask[input_tensor == 50256] = 0\n",
    "\n",
    "# Adjust generation settings for better text quality\n",
    "output = model.generate(input_tensor, \n",
    "                        max_length=100,    # Increased max length for more coherent text\n",
    "                        num_beams=5,       # Beam search is good for structured text, can try top_k or top_p\n",
    "                        no_repeat_ngram_size=2, \n",
    "                        temperature=0.7,    # Control randomness (lower temp = less random)\n",
    "                        top_p=0.9,         # Top-p sampling (consider only the top 90% of tokens)\n",
    "                        attention_mask=attention_mask)\n",
    "\n",
    "# Decode the generated tokens to text\n",
    "generated_text = tokenizer.decode(output[0].tolist())\n",
    "print(f\"Generated text: {generated_text}\")\n"
   ]
  },
  {
   "cell_type": "code",
   "execution_count": 5,
   "id": "5bde39fe-a2e2-47a1-afe6-a647a4606e87",
   "metadata": {},
   "outputs": [
    {
     "ename": "OSError",
     "evalue": "Not found: \"C:\\Users\\Daniel\\Documents\\Daniel_things\\Universität_Halle\\Data_Mining_und_maschinelle_Lernen\\FinalProect\\CHASESQLTtry2\\Ngrams\\32768.model\": No such file or directory Error #2",
     "output_type": "error",
     "traceback": [
      "\u001b[1;31m---------------------------------------------------------------------------\u001b[0m",
      "\u001b[1;31mOSError\u001b[0m                                   Traceback (most recent call last)",
      "Cell \u001b[1;32mIn[5], line 9\u001b[0m\n\u001b[0;32m      6\u001b[0m tokenizer \u001b[38;5;241m=\u001b[39m spm\u001b[38;5;241m.\u001b[39mSentencePieceProcessor()\n\u001b[0;32m      8\u001b[0m \u001b[38;5;66;03m# Load using the explicit Load method\u001b[39;00m\n\u001b[1;32m----> 9\u001b[0m \u001b[38;5;28;01mif\u001b[39;00m \u001b[38;5;129;01mnot\u001b[39;00m \u001b[43mtokenizer\u001b[49m\u001b[38;5;241;43m.\u001b[39;49m\u001b[43mLoad\u001b[49m\u001b[43m(\u001b[49m\u001b[43mtokenizer_path\u001b[49m\u001b[43m)\u001b[49m:\n\u001b[0;32m     10\u001b[0m     \u001b[38;5;28;01mraise\u001b[39;00m \u001b[38;5;167;01mValueError\u001b[39;00m(\u001b[38;5;124mf\u001b[39m\u001b[38;5;124m\"\u001b[39m\u001b[38;5;124mFailed to load tokenizer from \u001b[39m\u001b[38;5;132;01m{\u001b[39;00mtokenizer_path\u001b[38;5;132;01m}\u001b[39;00m\u001b[38;5;124m\"\u001b[39m)\n\u001b[0;32m     12\u001b[0m \u001b[38;5;28mprint\u001b[39m(\u001b[38;5;124m\"\u001b[39m\u001b[38;5;124mTokenizer loaded successfully!\u001b[39m\u001b[38;5;124m\"\u001b[39m)\n",
      "File \u001b[1;32m~\\anaconda3\\envs\\fresh_huggingface\\lib\\site-packages\\sentencepiece\\__init__.py:961\u001b[0m, in \u001b[0;36mSentencePieceProcessor.Load\u001b[1;34m(self, model_file, model_proto)\u001b[0m\n\u001b[0;32m    959\u001b[0m \u001b[38;5;28;01mif\u001b[39;00m model_proto:\n\u001b[0;32m    960\u001b[0m   \u001b[38;5;28;01mreturn\u001b[39;00m \u001b[38;5;28mself\u001b[39m\u001b[38;5;241m.\u001b[39mLoadFromSerializedProto(model_proto)\n\u001b[1;32m--> 961\u001b[0m \u001b[38;5;28;01mreturn\u001b[39;00m \u001b[38;5;28;43mself\u001b[39;49m\u001b[38;5;241;43m.\u001b[39;49m\u001b[43mLoadFromFile\u001b[49m\u001b[43m(\u001b[49m\u001b[43mmodel_file\u001b[49m\u001b[43m)\u001b[49m\n",
      "File \u001b[1;32m~\\anaconda3\\envs\\fresh_huggingface\\lib\\site-packages\\sentencepiece\\__init__.py:316\u001b[0m, in \u001b[0;36mSentencePieceProcessor.LoadFromFile\u001b[1;34m(self, arg)\u001b[0m\n\u001b[0;32m    315\u001b[0m \u001b[38;5;28;01mdef\u001b[39;00m \u001b[38;5;21mLoadFromFile\u001b[39m(\u001b[38;5;28mself\u001b[39m, arg):\n\u001b[1;32m--> 316\u001b[0m     \u001b[38;5;28;01mreturn\u001b[39;00m \u001b[43m_sentencepiece\u001b[49m\u001b[38;5;241;43m.\u001b[39;49m\u001b[43mSentencePieceProcessor_LoadFromFile\u001b[49m\u001b[43m(\u001b[49m\u001b[38;5;28;43mself\u001b[39;49m\u001b[43m,\u001b[49m\u001b[43m \u001b[49m\u001b[43marg\u001b[49m\u001b[43m)\u001b[49m\n",
      "\u001b[1;31mOSError\u001b[0m: Not found: \"C:\\Users\\Daniel\\Documents\\Daniel_things\\Universität_Halle\\Data_Mining_und_maschinelle_Lernen\\FinalProect\\CHASESQLTtry2\\Ngrams\\32768.model\": No such file or directory Error #2"
     ]
    }
   ],
   "source": [
    "import sentencepiece as spm\n",
    "\n",
    "tokenizer_path = r\"C:\\Users\\Daniel\\Documents\\Daniel_things\\Universität_Halle\\Data_Mining_und_maschinelle_Lernen\\FinalProect\\CHASESQLTtry2\\Ngrams\\32768.model\"\n",
    "\n",
    "# Initialize the tokenizer\n",
    "tokenizer = spm.SentencePieceProcessor()\n",
    "\n",
    "# Load using the explicit Load method\n",
    "if not tokenizer.Load(tokenizer_path):\n",
    "    raise ValueError(f\"Failed to load tokenizer from {tokenizer_path}\")\n",
    "\n",
    "print(\"Tokenizer loaded successfully!\")\n"
   ]
  },
  {
   "cell_type": "code",
   "execution_count": null,
   "id": "3b04e31b-720c-4b8e-a5a5-8ed961524d1e",
   "metadata": {},
   "outputs": [],
   "source": [
    "from transformers import PreTrainedTokenizerFast\n",
    "\n",
    "# Load the tokenizer directly if it's a SentencePiece tokenizer or custom format\n",
    "tokenizer = PreTrainedTokenizerFast(tokenizer_file=\"C:/Users/Daniel/Documents/Daniel_things/Universität_Halle/Data_Mining_und_maschinelle_Lernen/FinalProect/CHASESQLTtry2/Ngrams/32768.model\")\n",
    "\n",
    "print(\"Tokenizer loaded successfully!\")\n"
   ]
  },
  {
   "cell_type": "code",
   "execution_count": null,
   "id": "6adfb199-fe56-4f0e-b140-eacf8f7d7838",
   "metadata": {},
   "outputs": [],
   "source": [
    "# Test the model and tokenizer together\n",
    "input_text = \"Peter Piper picked a peck of pickled peppers\"\n",
    "input_ids = tokenizer(input_text, return_tensors=\"pt\").input_ids\n",
    "\n",
    "# Generate output from the model\n",
    "output = model.generate(input_ids, max_length=50)\n",
    "\n",
    "# Decode the generated output\n",
    "generated_text = tokenizer.decode(output[0], skip_special_tokens=True)\n",
    "print(f\"Generated text: {generated_text}\")"
   ]
  }
 ],
 "metadata": {
  "kernelspec": {
   "display_name": "Python (fresh_huggingface)",
   "language": "python",
   "name": "fresh_huggingface"
  },
  "language_info": {
   "codemirror_mode": {
    "name": "ipython",
    "version": 3
   },
   "file_extension": ".py",
   "mimetype": "text/x-python",
   "name": "python",
   "nbconvert_exporter": "python",
   "pygments_lexer": "ipython3",
   "version": "3.8.20"
  }
 },
 "nbformat": 4,
 "nbformat_minor": 5
}
