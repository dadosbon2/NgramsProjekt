{
 "cells": [
  {
   "cell_type": "markdown",
   "id": "de91d934-cf5b-48ca-82af-9f032762e6e5",
   "metadata": {},
   "source": [
    "## Okay, dann starten wir mit dem replizieren der Ergebnisse!\n",
    "Als erstes wüssten wir gerne, ob die Werte der top 1-Accuracy und der Variational Distance mit denen auf Tabelle 13,17,14,18\n",
    "Fangen wir an die Werte der Variational Distance zu verlgeichen mit denen aus Tabelle 14 und 18"
   ]
  },
  {
   "cell_type": "code",
   "execution_count": 1,
   "id": "3dd31072-61ba-433b-8836-7984fe996409",
   "metadata": {},
   "outputs": [
    {
     "name": "stdout",
     "output_type": "stream",
     "text": [
      "Using device: cuda\n"
     ]
    }
   ],
   "source": [
    "import torch\n",
    "import pandas as pd\n",
    "import numpy as np\n",
    "import sentencepiece as spm\n",
    "import gcsfs\n",
    "\n",
    "# Sicherstellen, dass eine GPU verfügbar ist\n",
    "device = torch.device(\"cuda\" if torch.cuda.is_available() else \"cpu\")\n",
    "print(f\"Using device: {device}\")\n",
    "\n",
    "# Verbindung zu Google Cloud Storage\n",
    "fs = gcsfs.GCSFileSystem('transformer-ngrams')\n",
    "\n",
    "# Tokenizer laden\n",
    "tokenizer_path = 'gs://transformer-ngrams/32768.model'\n",
    "with fs.open(tokenizer_path) as f:\n",
    "    tokenizer = spm.SentencePieceProcessor(model_proto=f.read())"
   ]
  },
  {
   "cell_type": "code",
   "execution_count": 2,
   "id": "1a7abf08-bd1f-4c1b-930b-b11ca0c79064",
   "metadata": {},
   "outputs": [],
   "source": [
    "# Hilfsfunktion zur Konvertierung von Token-Statistiken in Wahrscheinlichkeiten\n",
    "def convert_counter_to_probs(counter):\n",
    "    \"\"\"Konvertiert Token-Zähler in Wahrscheinlichkeiten.\"\"\"\n",
    "    assert len(counter) % 2 == 0\n",
    "    probs = np.zeros(32768)\n",
    "    ks = counter[::2]  # Token IDs\n",
    "    vs = counter[1::2]  # Vorkommen\n",
    "    mass = sum(vs)\n",
    "    for k, v in zip(ks, vs):\n",
    "        probs[k] = v / mass\n",
    "    return probs\n",
    "\n",
    "# Hilfsfunktion zur Berechnung der Variational Distance\n",
    "def dist(counter, model_probs):\n",
    "    \"\"\"Berechnet die Variational Distance zwischen Regel-basierten Vorhersagen und Modellvorhersagen.\"\"\"\n",
    "    probs = convert_counter_to_probs(counter)\n",
    "    return 0.5 * np.sum(np.abs(probs - model_probs))"
   ]
  },
  {
   "cell_type": "markdown",
   "id": "5c04b9fe-ea20-4237-8d10-4cb6a8bedbf5",
   "metadata": {},
   "source": [
    "Um zu sehen ob die Hilfsfunktionen funktionieren, ist hier ein kleiner test, der gut aussieht"
   ]
  },
  {
   "cell_type": "code",
   "execution_count": 8,
   "id": "881d8210-0edd-436d-9877-e0caf783a8ec",
   "metadata": {},
   "outputs": [
    {
     "name": "stdout",
     "output_type": "stream",
     "text": [
      "Token-Probs aus Zähler: 0.16666666666666666 0.3333333333333333 0.5\n",
      "Berechnete Variational Distance: 0.9998585525356616\n"
     ]
    }
   ],
   "source": [
    "# Testdaten: Ein Beispiel-Token-Zähler [Token1, Count1, Token2, Count2, ...]\n",
    "test_counter = [100, 5, 200, 10, 300, 15]  \n",
    "test_model_probs = np.random.uniform(0, 1, 32768)  \n",
    "test_model_probs /= test_model_probs.sum()  # Normierung auf eine Wahrscheinlichkeitsverteilung  \n",
    "\n",
    "# Test für convert_counter_to_probs\n",
    "probs = convert_counter_to_probs(test_counter)\n",
    "print(\"Token-Probs aus Zähler:\", probs[100], probs[200], probs[300])  # Erwartete Werte: Nicht null\n",
    "\n",
    "# Test für dist\n",
    "distance = dist(test_counter, test_model_probs)\n",
    "print(\"Berechnete Variational Distance:\", distance)  # Erwartet: Float-Wert"
   ]
  },
  {
   "cell_type": "code",
   "execution_count": 3,
   "id": "c9bf219a-f612-45e1-b0e7-9cf8de9f7419",
   "metadata": {},
   "outputs": [
    {
     "name": "stdout",
     "output_type": "stream",
     "text": [
      "Laden der Regeln-Daten für Tabelle 13...\n",
      "Regeln-Daten geladen:\n",
      "   record_num  index  token  target  context_size_used     context rules  \\\n",
      "0           0      0      1   31402                  1         [1]   [1]   \n",
      "3           0      1  31402   32599                  1     [31402]   [1]   \n",
      "4           0      1  31402   32599                  2         [1]   [2]   \n",
      "2           0      1  31402   32599                  2      [1, 0]   [3]   \n",
      "1           0      1  31402   32599                  2  [1, 31402]   [4]   \n",
      "\n",
      "                                  next_token_counter rule_prediction  text  \\\n",
      "0  [32606, 38614, 32624, 132017, 32318, 40357, 41...          [4146]         \n",
      "3  [1358, 56, 2508, 453, 305, 935, 11655, 2, 3260...         [32600]  Spot   \n",
      "4  [32606, 38614, 32624, 132017, 32318, 40357, 41...          [4146]  Spot   \n",
      "2  [2904, 36075, 7097, 16560, 305, 151603, 1726, ...          [1726]  Spot   \n",
      "1                [383, 40, 8130, 1, 328, 9, 5130, 1]           [383]  Spot   \n",
      "\n",
      "  target_text  \n",
      "0        Spot  \n",
      "3           .  \n",
      "4           .  \n",
      "2           .  \n",
      "1           .  \n"
     ]
    }
   ],
   "source": [
    "# Schritt 1: Laden der Regeln-Daten für Tabelle 13\n",
    "print(\"Laden der Regeln-Daten für Tabelle 13...\")\n",
    "sample_rules_path = 'gs://transformer-ngrams/TinyStories/eval_data_rules/001.parquet'\n",
    "with fs.open(sample_rules_path, 'rb') as f:\n",
    "    df_rules = pd.read_parquet(f)\n",
    "print(\"Regeln-Daten geladen:\")\n",
    "print(df_rules.head())\n",
    "\n",
    "# Schritt 2: Dummy-Modellvorhersagen erstellen (wird später durch ein echtes Modell ersetzt)\n",
    "n = len(set(df_rules['index']))\n",
    "index = list(range(n))\n",
    "random_probs = np.random.uniform(size=(n, 32768))\n",
    "random_probs = random_probs / np.sum(random_probs, axis=1)[:, None]\n",
    "df_model_preds = pd.DataFrame({'index': index, 'model_probs': random_probs.tolist()})"
   ]
  },
  {
   "cell_type": "code",
   "execution_count": 9,
   "id": "72fd79b7-9098-4421-b462-6e2aeeffd7b7",
   "metadata": {},
   "outputs": [
    {
     "name": "stdout",
     "output_type": "stream",
     "text": [
      "(85, 2)\n",
      "   index                                        model_probs\n",
      "0      0  [7.501295998503143e-06, 2.016407590672307e-06,...\n",
      "1      1  [3.429055587820258e-05, 2.3110939107225145e-05...\n",
      "2      2  [3.057854857864653e-05, 4.9317750988683684e-05...\n",
      "3      3  [6.049454313797489e-05, 3.1473602833666823e-05...\n",
      "4      4  [4.0739463675605206e-05, 4.079556770278851e-05...\n"
     ]
    }
   ],
   "source": [
    "print(df_model_preds.shape)  # Erwartet: (Anzahl der Token, 2)\n",
    "print(df_model_preds.head()) # Vorschau der zufälligen Modellvorhersagen\n"
   ]
  },
  {
   "cell_type": "code",
   "execution_count": 4,
   "id": "d28102dc-8928-44c5-bbc4-7ab2b2682266",
   "metadata": {},
   "outputs": [
    {
     "name": "stdout",
     "output_type": "stream",
     "text": [
      "Berechnung der Variational Distance für Tabelle 13...\n"
     ]
    }
   ],
   "source": [
    "# Schritt 3: Berechnung der Variational Distance\n",
    "print(\"Berechnung der Variational Distance für Tabelle 13...\")\n",
    "df_joined = df_rules.merge(df_model_preds, on='index')\n",
    "df_joined['distance'] = df_joined.apply(lambda x: dist(x.next_token_counter, x.model_probs), axis=1)\n",
    "\n",
    "# Schritt 4: Optimale Regel pro Token auswählen\n",
    "df_optimal = df_joined.loc[df_joined.groupby('index')['distance'].idxmin()].reset_index(drop=True)\n",
    "df_optimal['top_1_acc'] = df_optimal.apply(lambda x: (np.argmax(x['model_probs']) in x['rule_prediction']) / len(x['rule_prediction']), axis=1)"
   ]
  },
  {
   "cell_type": "markdown",
   "id": "fce0a3d5-a737-48ce-ad4b-44ae7ac1609e",
   "metadata": {},
   "source": [
    "Überprüfen der Werte:"
   ]
  },
  {
   "cell_type": "code",
   "execution_count": 10,
   "id": "8bc2599d-94a1-4ba5-ade4-ffde734b8f1e",
   "metadata": {},
   "outputs": [
    {
     "name": "stdout",
     "output_type": "stream",
     "text": [
      "   index  distance\n",
      "0      0  0.993689\n",
      "1      1  0.987740\n",
      "2      1  0.993422\n",
      "3      1  0.985944\n",
      "4      1  0.999896\n",
      "count    28073.000000\n",
      "mean         0.987931\n",
      "std          0.021106\n",
      "min          0.898294\n",
      "25%          0.986984\n",
      "50%          0.998433\n",
      "75%          0.999808\n",
      "max          1.000000\n",
      "Name: distance, dtype: float64\n"
     ]
    }
   ],
   "source": [
    "print(df_joined[[\"index\", \"distance\"]].head())  # Erwartet: Float-Werte\n",
    "print(df_joined[\"distance\"].describe())  # Erwartet: Min, Max, Mittelwert zur Überprüfung\n"
   ]
  },
  {
   "cell_type": "code",
   "execution_count": null,
   "id": "d82c6f01-c04a-4bb3-9d6b-4525a900f584",
   "metadata": {},
   "outputs": [],
   "source": []
  },
  {
   "cell_type": "code",
   "execution_count": null,
   "id": "e3f4c00b-a24d-4b32-b0b3-510940c73ea5",
   "metadata": {},
   "outputs": [],
   "source": []
  },
  {
   "cell_type": "code",
   "execution_count": null,
   "id": "1175d4d6-ff69-41f5-a817-91996935e622",
   "metadata": {},
   "outputs": [],
   "source": []
  },
  {
   "cell_type": "code",
   "execution_count": null,
   "id": "28d6dff6-ec0d-46bf-8c57-e6c05148ce66",
   "metadata": {},
   "outputs": [],
   "source": []
  },
  {
   "cell_type": "code",
   "execution_count": 5,
   "id": "ffb371b3-ff0c-47dd-bf57-211a6a67b294",
   "metadata": {},
   "outputs": [
    {
     "name": "stdout",
     "output_type": "stream",
     "text": [
      "Ergebnis für Tabelle 13:\n",
      "   record_num  index  token  target  context_size_used        context rules  \\\n",
      "0           0      0      1   31402                  1            [1]   [1]   \n",
      "1           0      1  31402   32599                  2         [1, 0]   [3]   \n",
      "2           0      2  32599   15993                  2     [31402, 0]   [3]   \n",
      "3           0      3  15993    2531                  2     [32599, 0]   [3]   \n",
      "4           0      4   2531     280                  3  [32599, 0, 0]   [9]   \n",
      "\n",
      "                                  next_token_counter rule_prediction   text  \\\n",
      "0  [32606, 38614, 32624, 132017, 32318, 40357, 41...          [4146]          \n",
      "1  [2904, 36075, 7097, 16560, 305, 151603, 1726, ...          [1726]   Spot   \n",
      "2  [496, 596, 306, 1771, 18449, 136, 280, 1064, 3...           [306]      .   \n",
      "3  [382, 474977, 12779, 4839, 597, 79146, 4, 6577...             [4]   Spot   \n",
      "4  [841, 37385, 4618, 635, 25700, 24, 32616, 1258...           [306]    saw   \n",
      "\n",
      "  target_text                                        model_probs  distance  \\\n",
      "0        Spot  [7.501295998503143e-06, 2.016407590672307e-06,...  0.993689   \n",
      "1           .  [3.429055587820258e-05, 2.3110939107225145e-05...  0.985944   \n",
      "2        Spot  [3.057854857864653e-05, 4.9317750988683684e-05...  0.979184   \n",
      "3         saw  [6.049454313797489e-05, 3.1473602833666823e-05...  0.939211   \n",
      "4         the  [4.0739463675605206e-05, 4.079556770278851e-05...  0.931628   \n",
      "\n",
      "   top_1_acc  \n",
      "0        0.0  \n",
      "1        0.0  \n",
      "2        0.0  \n",
      "3        0.0  \n",
      "4        0.0  \n"
     ]
    }
   ],
   "source": [
    "# Ergebnis für Tabelle 13 anzeigen\n",
    "print(\"Ergebnis für Tabelle 13:\")\n",
    "print(df_optimal.head())\n"
   ]
  },
  {
   "cell_type": "code",
   "execution_count": 13,
   "id": "5ce25272-99bd-4b9e-8f0d-0c18233fe30a",
   "metadata": {},
   "outputs": [
    {
     "name": "stdout",
     "output_type": "stream",
     "text": [
      "Index: 0, Rule Prediction: [4146], Model Prediction: 7241\n",
      "Index: 1, Rule Prediction: [1726], Model Prediction: 5700\n",
      "Index: 2, Rule Prediction: [306], Model Prediction: 29698\n",
      "Index: 3, Rule Prediction: [4], Model Prediction: 14321\n",
      "Index: 4, Rule Prediction: [306], Model Prediction: 29697\n",
      "Index: 5, Rule Prediction: [305], Model Prediction: 20682\n",
      "Index: 6, Rule Prediction: [305], Model Prediction: 5465\n",
      "Index: 7, Rule Prediction: [305], Model Prediction: 21673\n",
      "Index: 8, Rule Prediction: [32599], Model Prediction: 10760\n",
      "Index: 9, Rule Prediction: [32599], Model Prediction: 18509\n",
      "Index: 10, Rule Prediction: [32599], Model Prediction: 25024\n",
      "Index: 11, Rule Prediction: [32599], Model Prediction: 4063\n",
      "Index: 12, Rule Prediction: [32599], Model Prediction: 11955\n",
      "Index: 13, Rule Prediction: [32599], Model Prediction: 27693\n",
      "Index: 14, Rule Prediction: [32599], Model Prediction: 29494\n",
      "Index: 15, Rule Prediction: [32599], Model Prediction: 17308\n",
      "Index: 16, Rule Prediction: [32599], Model Prediction: 6077\n",
      "Index: 17, Rule Prediction: [32599], Model Prediction: 7353\n",
      "Index: 18, Rule Prediction: [32599], Model Prediction: 6483\n",
      "Index: 19, Rule Prediction: [32599], Model Prediction: 17663\n",
      "Index: 20, Rule Prediction: [32599], Model Prediction: 28816\n",
      "Index: 21, Rule Prediction: [32599], Model Prediction: 6433\n",
      "Index: 22, Rule Prediction: [32599], Model Prediction: 106\n",
      "Index: 23, Rule Prediction: [4], Model Prediction: 29458\n",
      "Index: 24, Rule Prediction: [306], Model Prediction: 12161\n",
      "Index: 25, Rule Prediction: [32599], Model Prediction: 21692\n",
      "Index: 26, Rule Prediction: [32599], Model Prediction: 25738\n",
      "Index: 27, Rule Prediction: [32599], Model Prediction: 1850\n",
      "Index: 28, Rule Prediction: [32599], Model Prediction: 29247\n",
      "Index: 29, Rule Prediction: [32599], Model Prediction: 6890\n",
      "Index: 30, Rule Prediction: [32599], Model Prediction: 32471\n",
      "Index: 31, Rule Prediction: [32599], Model Prediction: 13443\n",
      "Index: 32, Rule Prediction: [32599], Model Prediction: 24396\n",
      "Index: 33, Rule Prediction: [32599], Model Prediction: 10890\n",
      "Index: 34, Rule Prediction: [32599], Model Prediction: 22430\n",
      "Index: 35, Rule Prediction: [32599], Model Prediction: 31347\n",
      "Index: 36, Rule Prediction: [32599], Model Prediction: 22261\n",
      "Index: 37, Rule Prediction: [306], Model Prediction: 25641\n",
      "Index: 38, Rule Prediction: [32599], Model Prediction: 32107\n",
      "Index: 39, Rule Prediction: [32599], Model Prediction: 21297\n",
      "Index: 40, Rule Prediction: [32599], Model Prediction: 9999\n",
      "Index: 41, Rule Prediction: [305], Model Prediction: 8291\n",
      "Index: 42, Rule Prediction: [32599], Model Prediction: 32760\n",
      "Index: 43, Rule Prediction: [32599], Model Prediction: 21997\n",
      "Index: 44, Rule Prediction: [32599], Model Prediction: 32238\n",
      "Index: 45, Rule Prediction: [32599], Model Prediction: 21760\n",
      "Index: 46, Rule Prediction: [306], Model Prediction: 3174\n",
      "Index: 47, Rule Prediction: [280], Model Prediction: 8472\n",
      "Index: 48, Rule Prediction: [32600], Model Prediction: 27422\n",
      "Index: 49, Rule Prediction: [32600], Model Prediction: 26813\n",
      "Index: 50, Rule Prediction: [32600], Model Prediction: 15873\n",
      "Index: 51, Rule Prediction: [4], Model Prediction: 12678\n",
      "Index: 52, Rule Prediction: [32599], Model Prediction: 10705\n",
      "Index: 53, Rule Prediction: [32599], Model Prediction: 29814\n",
      "Index: 54, Rule Prediction: [32599], Model Prediction: 27459\n",
      "Index: 55, Rule Prediction: [32599], Model Prediction: 25722\n",
      "Index: 56, Rule Prediction: [32599], Model Prediction: 27050\n",
      "Index: 57, Rule Prediction: [32599], Model Prediction: 26570\n",
      "Index: 58, Rule Prediction: [32599], Model Prediction: 4323\n",
      "Index: 59, Rule Prediction: [32599], Model Prediction: 21822\n",
      "Index: 60, Rule Prediction: [32599], Model Prediction: 28686\n",
      "Index: 61, Rule Prediction: [305], Model Prediction: 2557\n",
      "Index: 62, Rule Prediction: [305], Model Prediction: 8358\n",
      "Index: 63, Rule Prediction: [305], Model Prediction: 3958\n",
      "Index: 64, Rule Prediction: [32599], Model Prediction: 444\n",
      "Index: 65, Rule Prediction: [32599], Model Prediction: 17539\n",
      "Index: 66, Rule Prediction: [32599], Model Prediction: 24328\n",
      "Index: 67, Rule Prediction: [32599], Model Prediction: 12424\n",
      "Index: 68, Rule Prediction: [32599], Model Prediction: 15509\n",
      "Index: 69, Rule Prediction: [32599], Model Prediction: 20513\n",
      "Index: 70, Rule Prediction: [305], Model Prediction: 21326\n",
      "Index: 71, Rule Prediction: [305], Model Prediction: 14882\n",
      "Index: 72, Rule Prediction: [305], Model Prediction: 16079\n",
      "Index: 73, Rule Prediction: [32599], Model Prediction: 6027\n",
      "Index: 74, Rule Prediction: [32599], Model Prediction: 22486\n",
      "Index: 75, Rule Prediction: [32599], Model Prediction: 14869\n",
      "Index: 76, Rule Prediction: [32599], Model Prediction: 13382\n",
      "Index: 77, Rule Prediction: [32599], Model Prediction: 4524\n",
      "Index: 78, Rule Prediction: [32599], Model Prediction: 951\n",
      "Index: 79, Rule Prediction: [32599], Model Prediction: 28795\n",
      "Index: 80, Rule Prediction: [305], Model Prediction: 17462\n",
      "Index: 81, Rule Prediction: [305], Model Prediction: 3600\n",
      "Index: 82, Rule Prediction: [32599], Model Prediction: 26734\n",
      "Index: 83, Rule Prediction: [32599], Model Prediction: 8441\n",
      "Index: 84, Rule Prediction: [32599], Model Prediction: 14178\n"
     ]
    }
   ],
   "source": [
    "for _, row in df_optimal.iterrows():\n",
    "    print(f\"Index: {row['index']}, Rule Prediction: {row['rule_prediction']}, Model Prediction: {np.argmax(row['model_probs'])}\")\n",
    "\n"
   ]
  },
  {
   "cell_type": "code",
   "execution_count": null,
   "id": "857dc780-c3c5-4bb7-93a4-6aae70be3739",
   "metadata": {},
   "outputs": [],
   "source": []
  },
  {
   "cell_type": "code",
   "execution_count": null,
   "id": "a063eb29-5f52-4465-aa3c-6bd0c6d65412",
   "metadata": {},
   "outputs": [],
   "source": []
  },
  {
   "cell_type": "code",
   "execution_count": null,
   "id": "704bfbd9-c634-4a15-bc2a-0c15e9d8a523",
   "metadata": {},
   "outputs": [],
   "source": []
  },
  {
   "cell_type": "code",
   "execution_count": 11,
   "id": "59f73667-79e1-4a65-9ce7-ce6fe0c1b077",
   "metadata": {},
   "outputs": [
    {
     "name": "stdout",
     "output_type": "stream",
     "text": [
      "   index  distance  top_1_acc\n",
      "0      0  0.993689        0.0\n",
      "1      1  0.985944        0.0\n",
      "2      2  0.979184        0.0\n",
      "3      3  0.939211        0.0\n",
      "4      4  0.931628        0.0\n",
      "count    85.0\n",
      "mean      0.0\n",
      "std       0.0\n",
      "min       0.0\n",
      "25%       0.0\n",
      "50%       0.0\n",
      "75%       0.0\n",
      "max       0.0\n",
      "Name: top_1_acc, dtype: float64\n"
     ]
    }
   ],
   "source": [
    "print(df_optimal[[\"index\", \"distance\", \"top_1_acc\"]].head())\n",
    "print(df_optimal[\"top_1_acc\"].describe())  # Erwartet: Werte zwischen 0 und 1\n"
   ]
  },
  {
   "cell_type": "code",
   "execution_count": 6,
   "id": "2d1eb5d4-c4f0-4089-a61c-e11edd2d1421",
   "metadata": {},
   "outputs": [],
   "source": [
    "# Schritt 5: Speichern der Ergebnisse für Tabelle 13\n",
    "df_optimal.to_csv(\"table_13_results.csv\", index=False)"
   ]
  },
  {
   "cell_type": "code",
   "execution_count": 7,
   "id": "bad4fbab-2fb8-47bd-8eb6-a414d7bb9c2a",
   "metadata": {},
   "outputs": [
    {
     "name": "stdout",
     "output_type": "stream",
     "text": [
      "Laden der Regeln-Daten für Tabelle 14...\n",
      "Regeln-Daten für Tabelle 14 geladen:\n",
      "   record_num  index  token  target  context_size_used    context rules  \\\n",
      "0           1      0      1    4146                  1        [1]   [1]   \n",
      "3           1      1   4146    1726                  1     [4146]   [1]   \n",
      "4           1      1   4146    1726                  2        [1]   [2]   \n",
      "2           1      1   4146    1726                  2     [1, 0]   [3]   \n",
      "1           1      1   4146    1726                  2  [1, 4146]   [4]   \n",
      "\n",
      "                                  next_token_counter rule_prediction  text  \\\n",
      "0  [32606, 38614, 32624, 132017, 32318, 40357, 41...          [4146]         \n",
      "3  [1726, 1260471, 611, 156123, 280, 2612, 32600,...          [1726]  Once   \n",
      "4  [32606, 38614, 32624, 132017, 32318, 40357, 41...          [4146]  Once   \n",
      "2  [2904, 36075, 7097, 16560, 305, 151603, 1726, ...          [1726]  Once   \n",
      "1  [1726, 1259081, 611, 155779, 32600, 11109, 275...          [1726]  Once   \n",
      "\n",
      "  target_text  \n",
      "0        Once  \n",
      "3        upon  \n",
      "4        upon  \n",
      "2        upon  \n",
      "1        upon  \n"
     ]
    }
   ],
   "source": [
    "# Falls alles funktioniert, wiederholen wir für Tabelle 14 mit neuen Regeln\n",
    "print(\"Laden der Regeln-Daten für Tabelle 14...\")\n",
    "sample_rules_path_14 = 'gs://transformer-ngrams/TinyStories/eval_data_rules/002.parquet'\n",
    "with fs.open(sample_rules_path_14, 'rb') as f:\n",
    "    df_rules_14 = pd.read_parquet(f)\n",
    "print(\"Regeln-Daten für Tabelle 14 geladen:\")\n",
    "print(df_rules_14.head())\n"
   ]
  },
  {
   "cell_type": "code",
   "execution_count": null,
   "id": "8b6d5998-ea2b-4e2e-86be-e370effe5e31",
   "metadata": {},
   "outputs": [],
   "source": []
  }
 ],
 "metadata": {
  "kernelspec": {
   "display_name": "Python 3 (ipykernel)",
   "language": "python",
   "name": "python3"
  },
  "language_info": {
   "codemirror_mode": {
    "name": "ipython",
    "version": 3
   },
   "file_extension": ".py",
   "mimetype": "text/x-python",
   "name": "python",
   "nbconvert_exporter": "python",
   "pygments_lexer": "ipython3",
   "version": "3.11.11"
  }
 },
 "nbformat": 4,
 "nbformat_minor": 5
}
